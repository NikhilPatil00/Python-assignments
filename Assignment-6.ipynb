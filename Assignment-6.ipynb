{
 "cells": [
  {
   "cell_type": "markdown",
   "id": "41aafd0c",
   "metadata": {},
   "source": [
    "#### 1.  What are escape characters, and how do you use them?"
   ]
  },
  {
   "cell_type": "markdown",
   "id": "cc283728",
   "metadata": {},
   "source": [
    "\\' Single Quote\n",
    "\n",
    "\\\\ backslash\n",
    "\n",
    "\\n new Lin\n",
    "\n",
    "\\r Carriage Return\n",
    "\n",
    "\\t Tab\n",
    "\n",
    "\\b Backspace\n",
    "\n",
    "\\f Form Feed\n",
    "\n",
    "\\ooo ctal value\n",
    "\n",
    "\\xhh ex value\n",
    "\n",
    "etc."
   ]
  },
  {
   "cell_type": "markdown",
   "id": "d1703f04",
   "metadata": {},
   "source": [
    "#### 2.  What do the escape characters n and t stand for?"
   ]
  },
  {
   "cell_type": "markdown",
   "id": "434e1133",
   "metadata": {},
   "source": [
    "\\n for new line and \\t for tab or indentation"
   ]
  },
  {
   "cell_type": "markdown",
   "id": "3c294485",
   "metadata": {},
   "source": [
    "#### 3. What is the way to include backslash characters in a string?"
   ]
  },
  {
   "cell_type": "code",
   "execution_count": 27,
   "id": "dfb2a2f8",
   "metadata": {},
   "outputs": [],
   "source": [
    "nick = \"I am a big fan of \\\"Krish Naik sir\\\" love form belgaum\""
   ]
  },
  {
   "cell_type": "code",
   "execution_count": 28,
   "id": "1af39ee9",
   "metadata": {},
   "outputs": [
    {
     "data": {
      "text/plain": [
       "'I am a big fan of \"Krish Naik sir\" love form belgaum'"
      ]
     },
     "execution_count": 28,
     "metadata": {},
     "output_type": "execute_result"
    }
   ],
   "source": [
    "nick"
   ]
  },
  {
   "cell_type": "markdown",
   "id": "56eebef7",
   "metadata": {},
   "source": [
    "#### 4. The string \"Howl's Moving Castle\" is a correct value. Why isn't the single quote character in the word Howl's not escaped a problem?"
   ]
  },
  {
   "cell_type": "markdown",
   "id": "de3a70b5",
   "metadata": {},
   "source": [
    "The single quote in Howl's is fine because you've used double quotes to mark the beginning and end of the string."
   ]
  },
  {
   "cell_type": "markdown",
   "id": "742df296",
   "metadata": {},
   "source": [
    "#### 5.  How do you write a string of newlines if you don't want to use the n character?"
   ]
  },
  {
   "cell_type": "markdown",
   "id": "0df097fc",
   "metadata": {},
   "source": [
    "Multiline strings allow you to use newlines in strings without the \\n escape character."
   ]
  },
  {
   "cell_type": "markdown",
   "id": "1fb420bc",
   "metadata": {},
   "source": [
    "#### 6.  What are the values of the given expressions?\n",
    "\n",
    "'Hello, world!'[1]\n",
    "\n",
    "'Hello, world!'[0:5]\n",
    "\n",
    "'Hello, world!'[:5]\n",
    "\n",
    "'Hello, world!'[3:]"
   ]
  },
  {
   "cell_type": "code",
   "execution_count": 29,
   "id": "ddc627ac",
   "metadata": {},
   "outputs": [
    {
     "data": {
      "text/plain": [
       "'e'"
      ]
     },
     "execution_count": 29,
     "metadata": {},
     "output_type": "execute_result"
    }
   ],
   "source": [
    "'Hello, world!'[1]"
   ]
  },
  {
   "cell_type": "code",
   "execution_count": 30,
   "id": "5436bed6",
   "metadata": {},
   "outputs": [
    {
     "data": {
      "text/plain": [
       "'Hello'"
      ]
     },
     "execution_count": 30,
     "metadata": {},
     "output_type": "execute_result"
    }
   ],
   "source": [
    "'Hello, world!'[0:5]"
   ]
  },
  {
   "cell_type": "code",
   "execution_count": 31,
   "id": "f5ef6302",
   "metadata": {},
   "outputs": [
    {
     "data": {
      "text/plain": [
       "'Hello'"
      ]
     },
     "execution_count": 31,
     "metadata": {},
     "output_type": "execute_result"
    }
   ],
   "source": [
    "'Hello, world!'[:5]\n"
   ]
  },
  {
   "cell_type": "code",
   "execution_count": 32,
   "id": "48f119b1",
   "metadata": {},
   "outputs": [
    {
     "data": {
      "text/plain": [
       "'lo, world!'"
      ]
     },
     "execution_count": 32,
     "metadata": {},
     "output_type": "execute_result"
    }
   ],
   "source": [
    "'Hello, world!'[3:]"
   ]
  },
  {
   "cell_type": "code",
   "execution_count": null,
   "id": "1b5dae43",
   "metadata": {},
   "outputs": [],
   "source": []
  },
  {
   "cell_type": "markdown",
   "id": "45ee214e",
   "metadata": {},
   "source": [
    "#### 7.  What are the values of the following expressions?\n",
    "\n",
    "'Hello'.upper()\n",
    "\n",
    "'Hello'.upper().isupper()\n",
    "\n",
    "'Hello'.upper().lower()"
   ]
  },
  {
   "cell_type": "code",
   "execution_count": 33,
   "id": "0fe04d3f",
   "metadata": {},
   "outputs": [
    {
     "data": {
      "text/plain": [
       "'HELLO'"
      ]
     },
     "execution_count": 33,
     "metadata": {},
     "output_type": "execute_result"
    }
   ],
   "source": [
    "'Hello'.upper()"
   ]
  },
  {
   "cell_type": "code",
   "execution_count": 34,
   "id": "18e44497",
   "metadata": {},
   "outputs": [
    {
     "data": {
      "text/plain": [
       "True"
      ]
     },
     "execution_count": 34,
     "metadata": {},
     "output_type": "execute_result"
    }
   ],
   "source": [
    "'Hello'.upper().isupper()\n"
   ]
  },
  {
   "cell_type": "code",
   "execution_count": 35,
   "id": "a8444132",
   "metadata": {},
   "outputs": [
    {
     "data": {
      "text/plain": [
       "'hello'"
      ]
     },
     "execution_count": 35,
     "metadata": {},
     "output_type": "execute_result"
    }
   ],
   "source": [
    "'Hello'.upper().lower()"
   ]
  },
  {
   "cell_type": "markdown",
   "id": "a248b6b2",
   "metadata": {},
   "source": [
    "#### 8. What are the values of the following expressions?\n",
    "\n",
    "'Remember, remember, the fifth of July.'.split()\n",
    "\n",
    "'-'.join('There can only one.'.split())"
   ]
  },
  {
   "cell_type": "code",
   "execution_count": 36,
   "id": "5e0e0798",
   "metadata": {},
   "outputs": [
    {
     "data": {
      "text/plain": [
       "['Remember,', 'remember,', 'the', 'fifth', 'of', 'July.']"
      ]
     },
     "execution_count": 36,
     "metadata": {},
     "output_type": "execute_result"
    }
   ],
   "source": [
    "'Remember, remember, the fifth of July.'.split()"
   ]
  },
  {
   "cell_type": "code",
   "execution_count": 37,
   "id": "0573f6ca",
   "metadata": {},
   "outputs": [
    {
     "data": {
      "text/plain": [
       "'There-can-only-one.'"
      ]
     },
     "execution_count": 37,
     "metadata": {},
     "output_type": "execute_result"
    }
   ],
   "source": [
    "'-'.join('There can only one.'.split())"
   ]
  },
  {
   "cell_type": "markdown",
   "id": "4df4c431",
   "metadata": {},
   "source": [
    "#### 9.  What are the methods for right-justifying, left-justifying, and centering a string?"
   ]
  },
  {
   "cell_type": "markdown",
   "id": "b6b70037",
   "metadata": {},
   "source": [
    "The rjust(), ljust(), and center() string methods, respectively"
   ]
  },
  {
   "cell_type": "markdown",
   "id": "bf97c6b0",
   "metadata": {},
   "source": [
    "#### 10. What is the best way to remove whitespace characters from the start or end?"
   ]
  },
  {
   "cell_type": "markdown",
   "id": "be79e295",
   "metadata": {},
   "source": [
    "The lstrip() and rstrip() methods remove whitespace from the left and right ends of a string, respectively."
   ]
  },
  {
   "cell_type": "code",
   "execution_count": 38,
   "id": "5f5a053d",
   "metadata": {},
   "outputs": [],
   "source": [
    "a = \"             aiuheanw   ejkfai aeiojhdf          \""
   ]
  },
  {
   "cell_type": "code",
   "execution_count": 39,
   "id": "68be7d65",
   "metadata": {},
   "outputs": [
    {
     "data": {
      "text/plain": [
       "'             aiuheanw   ejkfai aeiojhdf'"
      ]
     },
     "execution_count": 39,
     "metadata": {},
     "output_type": "execute_result"
    }
   ],
   "source": [
    "a.rstrip()"
   ]
  },
  {
   "cell_type": "code",
   "execution_count": 40,
   "id": "2a9534a3",
   "metadata": {},
   "outputs": [
    {
     "data": {
      "text/plain": [
       "'aiuheanw   ejkfai aeiojhdf          '"
      ]
     },
     "execution_count": 40,
     "metadata": {},
     "output_type": "execute_result"
    }
   ],
   "source": [
    "a.lstrip()"
   ]
  },
  {
   "cell_type": "code",
   "execution_count": null,
   "id": "64f1a6c6",
   "metadata": {},
   "outputs": [],
   "source": []
  }
 ],
 "metadata": {
  "kernelspec": {
   "display_name": "Python 3",
   "language": "python",
   "name": "python3"
  },
  "language_info": {
   "codemirror_mode": {
    "name": "ipython",
    "version": 3
   },
   "file_extension": ".py",
   "mimetype": "text/x-python",
   "name": "python",
   "nbconvert_exporter": "python",
   "pygments_lexer": "ipython3",
   "version": "3.8.8"
  }
 },
 "nbformat": 4,
 "nbformat_minor": 5
}
