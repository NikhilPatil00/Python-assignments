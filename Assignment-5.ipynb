{
 "cells": [
  {
   "cell_type": "markdown",
   "id": "17f5d98d",
   "metadata": {},
   "source": [
    "#### 1.  What does an empty dictionary's code look like?"
   ]
  },
  {
   "cell_type": "code",
   "execution_count": 1,
   "id": "a2a21292",
   "metadata": {},
   "outputs": [],
   "source": [
    "a={}"
   ]
  },
  {
   "cell_type": "markdown",
   "id": "eb4e6aa3",
   "metadata": {},
   "source": [
    "#### 2.  What is the value of a dictionary value with the key 'foo' and the value 42?"
   ]
  },
  {
   "cell_type": "code",
   "execution_count": 2,
   "id": "3e37a7cd",
   "metadata": {},
   "outputs": [
    {
     "data": {
      "text/plain": [
       "{'foo': 42}"
      ]
     },
     "execution_count": 2,
     "metadata": {},
     "output_type": "execute_result"
    }
   ],
   "source": [
    "{'foo':42}\n"
   ]
  },
  {
   "cell_type": "markdown",
   "id": "e6b25a64",
   "metadata": {},
   "source": [
    "#### 3.  What is the most significant distinction between a dictionary and a list?"
   ]
  },
  {
   "cell_type": "markdown",
   "id": "8694af7d",
   "metadata": {},
   "source": [
    "the item stored in a dictionary are unordered and the items in a list are ordered"
   ]
  },
  {
   "cell_type": "markdown",
   "id": "134f6c8c",
   "metadata": {},
   "source": [
    "#### 4.  What happens if you try to access spam['foo'] if spam is 'bar': 100}?"
   ]
  },
  {
   "cell_type": "markdown",
   "id": "6aa346d1",
   "metadata": {},
   "source": [
    "you will get key error"
   ]
  },
  {
   "cell_type": "markdown",
   "id": "eb985e37",
   "metadata": {},
   "source": [
    "#### 5. If a dictionary is stored in spam, what is the difference between the expressions 'cat' in spam and\n",
    "'cat' in spam.keys()?"
   ]
  },
  {
   "cell_type": "markdown",
   "id": "6991ac49",
   "metadata": {},
   "source": [
    "There is no difference. The in operator checks whether a value exists as a key in the dictionary."
   ]
  },
  {
   "cell_type": "markdown",
   "id": "d5f94ab3",
   "metadata": {},
   "source": [
    "#### 6. If a dictionary is stored in spam, what is the difference between the expressions 'cat' in spam and\n",
    "'cat' in spam.values()?"
   ]
  },
  {
   "cell_type": "markdown",
   "id": "e26e96e7",
   "metadata": {},
   "source": [
    "'cat' in spam checks whether there is a 'cat' key in the dictionary, while 'cat' in spam.values() checks whether there is a value 'cat' for one of the keys in spam."
   ]
  },
  {
   "cell_type": "markdown",
   "id": "fa7a651b",
   "metadata": {},
   "source": [
    "#### 7.  What is a shortcut for the following code?\n",
    "if 'color' not in spam:\n",
    "spam['color'] = 'black'"
   ]
  },
  {
   "cell_type": "code",
   "execution_count": 8,
   "id": "00fcd67c",
   "metadata": {},
   "outputs": [],
   "source": [
    "spam={}\n",
    "spam['color']='black'"
   ]
  },
  {
   "cell_type": "code",
   "execution_count": 9,
   "id": "ef0ab8f9",
   "metadata": {},
   "outputs": [
    {
     "data": {
      "text/plain": [
       "{'color': 'black'}"
      ]
     },
     "execution_count": 9,
     "metadata": {},
     "output_type": "execute_result"
    }
   ],
   "source": [
    "spam"
   ]
  },
  {
   "cell_type": "code",
   "execution_count": 12,
   "id": "0f19fcd6",
   "metadata": {},
   "outputs": [
    {
     "data": {
      "text/plain": [
       "'black'"
      ]
     },
     "execution_count": 12,
     "metadata": {},
     "output_type": "execute_result"
    }
   ],
   "source": [
    "spam.setdefault('color','black')"
   ]
  },
  {
   "cell_type": "markdown",
   "id": "963ab20e",
   "metadata": {},
   "source": [
    "#### 8. How do you 'pretty print' dictionary values using which module and function?"
   ]
  },
  {
   "cell_type": "markdown",
   "id": "cdaaac93",
   "metadata": {},
   "source": [
    "pprint.pprint()"
   ]
  },
  {
   "cell_type": "code",
   "execution_count": null,
   "id": "a3fbf4af",
   "metadata": {},
   "outputs": [],
   "source": []
  }
 ],
 "metadata": {
  "kernelspec": {
   "display_name": "Python 3",
   "language": "python",
   "name": "python3"
  },
  "language_info": {
   "codemirror_mode": {
    "name": "ipython",
    "version": 3
   },
   "file_extension": ".py",
   "mimetype": "text/x-python",
   "name": "python",
   "nbconvert_exporter": "python",
   "pygments_lexer": "ipython3",
   "version": "3.8.8"
  }
 },
 "nbformat": 4,
 "nbformat_minor": 5
}
