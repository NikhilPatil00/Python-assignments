{
 "cells": [
  {
   "cell_type": "markdown",
   "id": "8be97912",
   "metadata": {},
   "source": [
    "1. What are the two values of the Boolean data type? How do you write them\n"
   ]
  },
  {
   "cell_type": "code",
   "execution_count": 1,
   "id": "3db75691",
   "metadata": {},
   "outputs": [
    {
     "name": "stdout",
     "output_type": "stream",
     "text": [
      "enter the numner4\n",
      "True\n"
     ]
    }
   ],
   "source": [
    "# >> True or False \n",
    "# eg\n",
    "n = int(input(\"enter the numner\"))\n",
    "if n <10 :\n",
    "    print(True)\n",
    "else:\n",
    "    print(False)"
   ]
  },
  {
   "cell_type": "markdown",
   "id": "8813a5c6",
   "metadata": {},
   "source": [
    "2. What are the three different types of Boolean operators?"
   ]
  },
  {
   "cell_type": "markdown",
   "id": "eadf5428",
   "metadata": {},
   "source": [
    "AND , OR , NOT"
   ]
  },
  {
   "cell_type": "markdown",
   "id": "9a8a495b",
   "metadata": {},
   "source": [
    "3. Make a list of each Boolean operator truth table(i.e. every possible combination of Boolean\n",
    "values for the operator and what it evaluate )"
   ]
  },
  {
   "cell_type": "code",
   "execution_count": 2,
   "id": "77885e80",
   "metadata": {},
   "outputs": [
    {
     "ename": "SyntaxError",
     "evalue": "invalid syntax (<ipython-input-2-266f151d4208>, line 1)",
     "output_type": "error",
     "traceback": [
      "\u001b[1;36m  File \u001b[1;32m\"<ipython-input-2-266f151d4208>\"\u001b[1;36m, line \u001b[1;32m1\u001b[0m\n\u001b[1;33m    a    b   a && b  a || b   !a\u001b[0m\n\u001b[1;37m         ^\u001b[0m\n\u001b[1;31mSyntaxError\u001b[0m\u001b[1;31m:\u001b[0m invalid syntax\n"
     ]
    }
   ],
   "source": [
    "  a    b   a && b  a || b   !a\n",
    "true  true  true    true    false\n",
    "true  false false   true    false\n",
    "false true  false   true    true\n",
    "false false false   false   true"
   ]
  },
  {
   "cell_type": "markdown",
   "id": "e55fc9d5",
   "metadata": {},
   "source": [
    "0. LOGICAL OPERATORS\n",
    "1. ! --- Logical NOT ---\n",
    "!a --- true if a is false,\n",
    "false if a is true\n",
    "2. && --- Logical\n",
    "AND ---\n",
    "a && b --- true if both a and b are\n",
    "true, false otherwise\n",
    "3. || --- Logical OR --- a || b --- true if a or b, or both are\n",
    "true, false otherwise "
   ]
  },
  {
   "cell_type": "markdown",
   "id": "fe145b2e",
   "metadata": {},
   "source": [
    "4). What are the values of the following expressions?\n",
    "1. (5>4) and (3 == 5)\n",
    "2. not (5>4)\n",
    "3. (5> 4) or (3 == 5)\n",
    "4. not ((5>4) or (3 == 5))\n",
    "5. (True and True) and (True == False)\n",
    "6. (not False) or (not True)"
   ]
  },
  {
   "cell_type": "code",
   "execution_count": null,
   "id": "09e48fa6",
   "metadata": {},
   "outputs": [],
   "source": [
    "a=(5>4) and (3 == 5)\n",
    "b = not (5>4)\n",
    "c=(5> 4) or (3 == 5)\n",
    "d=not ((5>4) or (3 == 5))\n",
    "e=(True and True) and (True == False)\n",
    "f=(not False) or (not True)\n",
    "print(a,'\\n',b,'\\n',c,'\\n',d,'\\n',e,'\\n',f,'\\n')"
   ]
  },
  {
   "cell_type": "markdown",
   "id": "106f1061",
   "metadata": {},
   "source": [
    "5). What are the six comparison operators?\n",
    "RELATIONAL Operator Name\n",
    "\n",
    "1. == : equal to\n",
    "2. != : not equal to\n",
    "3. <  : less than\n",
    "4. <= : less than or equal to\n",
    "\n",
    "5. (>)  : greater than\n",
    "6. (>=) : greater than or equal to "
   ]
  },
  {
   "cell_type": "markdown",
   "id": "e7a21016",
   "metadata": {},
   "source": [
    "6). How do you tell the difference between the equal to and assignment operators?Describe a\n",
    "condition and when you would use one.\n",
    "\n",
    "1. =   -- for assignung the vlaue to a variable\n",
    "2. ==  -- for it is used for comparing the two values"
   ]
  },
  {
   "cell_type": "code",
   "execution_count": null,
   "id": "64003a56",
   "metadata": {},
   "outputs": [],
   "source": [
    "7. Identify the three blocks in this code:\n",
    "spam = 0\n",
    "if spam == 10:\n",
    "    print('eggs')\n",
    "if spam > 5:\n",
    "    print('bacon')\n",
    "else:\n",
    "    print('ham')\n",
    "    print('spam')\n",
    "    print('spam')"
   ]
  },
  {
   "cell_type": "markdown",
   "id": "650b59de",
   "metadata": {},
   "source": [
    "blocks :\n",
    "    if, \n",
    "    if,\n",
    "    else"
   ]
  },
  {
   "cell_type": "markdown",
   "id": "463dbf7e",
   "metadata": {},
   "source": [
    "8. Write code that prints Hello if 1 is stored in spam, prints Howdy if 2 is stored in spam, and prints\n",
    "Greetings! if anything else is stored in spam."
   ]
  },
  {
   "cell_type": "code",
   "execution_count": null,
   "id": "87675a31",
   "metadata": {},
   "outputs": [],
   "source": [
    "a = int(input(\"\"))\n",
    "if a == 1 :\n",
    "    print(\"Hello\")\n",
    "elif a == 2 :\n",
    "    print(\"Howdy\")\n",
    "else:\n",
    "    print(\"Greetings!\")"
   ]
  },
  {
   "cell_type": "markdown",
   "id": "9e6a857c",
   "metadata": {},
   "source": [
    "9.If your programme is stuck in an endless loop, what keys you’ll press?\n",
    "1. control +c"
   ]
  },
  {
   "cell_type": "markdown",
   "id": "13fd76ed",
   "metadata": {},
   "source": [
    "10). How can you tell the difference between break and continue?\n",
    "1. break =The Break statement is used to exit from the loop constructs.\n",
    "2. helps to skip statement inside the loop "
   ]
  },
  {
   "cell_type": "markdown",
   "id": "be5d5980",
   "metadata": {},
   "source": [
    "11. In a for loop, what is the difference between range(10), range(0, 10), and range(0, 10, 1)?\n"
   ]
  },
  {
   "cell_type": "code",
   "execution_count": null,
   "id": "13bb84ce",
   "metadata": {},
   "outputs": [],
   "source": [
    "for i in range(10):\n",
    "    print(i)"
   ]
  },
  {
   "cell_type": "code",
   "execution_count": null,
   "id": "00b05a1e",
   "metadata": {},
   "outputs": [],
   "source": [
    "for i in range(0,10,2):\n",
    "    print(i)"
   ]
  },
  {
   "cell_type": "code",
   "execution_count": null,
   "id": "ae378205",
   "metadata": {},
   "outputs": [],
   "source": [
    "for i in range(2,10):\n",
    "    print(i)"
   ]
  },
  {
   "cell_type": "markdown",
   "id": "4e9f2aef",
   "metadata": {},
   "source": [
    "12. Write a short program that prints the numbers 1 to 10 using a for loop. Then write an equivalent\n",
    "program that prints the numbers 1 to 10 using a while loop"
   ]
  },
  {
   "cell_type": "code",
   "execution_count": null,
   "id": "4046812a",
   "metadata": {},
   "outputs": [],
   "source": [
    "for i in range(1,11):\n",
    "    print(i)"
   ]
  },
  {
   "cell_type": "code",
   "execution_count": null,
   "id": "46a12b13",
   "metadata": {},
   "outputs": [],
   "source": [
    "a = 11\n",
    "i =1\n",
    "while i<a:\n",
    "    print(i)\n",
    "    i = i+1"
   ]
  },
  {
   "cell_type": "markdown",
   "id": "f4c1feb8",
   "metadata": {},
   "source": [
    "13. If you had a function named bacon() inside a module named spam, how would you call it after\n",
    "importing spam?"
   ]
  },
  {
   "cell_type": "code",
   "execution_count": null,
   "id": "9d2753f1",
   "metadata": {},
   "outputs": [],
   "source": [
    "# The module name is spam\n",
    "#spam.py\n",
    "def bacon(x,y):\n",
    "    return x+y"
   ]
  },
  {
   "cell_type": "code",
   "execution_count": null,
   "id": "936c57bc",
   "metadata": {},
   "outputs": [],
   "source": [
    "#import the module name\n",
    "# import spam\n",
    "print(bacon(10,4)) # The actual code is print(spam.bacon(10,4))\n",
    "\n"
   ]
  },
  {
   "cell_type": "code",
   "execution_count": null,
   "id": "bb1d0414",
   "metadata": {},
   "outputs": [],
   "source": []
  }
 ],
 "metadata": {
  "kernelspec": {
   "display_name": "Python 3",
   "language": "python",
   "name": "python3"
  },
  "language_info": {
   "codemirror_mode": {
    "name": "ipython",
    "version": 3
   },
   "file_extension": ".py",
   "mimetype": "text/x-python",
   "name": "python",
   "nbconvert_exporter": "python",
   "pygments_lexer": "ipython3",
   "version": "3.8.8"
  }
 },
 "nbformat": 4,
 "nbformat_minor": 5
}
