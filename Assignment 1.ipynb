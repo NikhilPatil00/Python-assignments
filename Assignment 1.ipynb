{
 "cells": [
  {
   "cell_type": "markdown",
   "id": "13202334",
   "metadata": {},
   "source": [
    "1. \n",
    "  Values = \"hello\", -87.8, 6\n",
    "\n",
    "  expression = *, -, / , +"
   ]
  },
  {
   "cell_type": "markdown",
   "id": "0e2ea79e",
   "metadata": {},
   "source": [
    "2. \n",
    "  variable : a = 56\n",
    "\n",
    "  string : \"string\"\n"
   ]
  },
  {
   "cell_type": "markdown",
   "id": "1e2d0b3d",
   "metadata": {},
   "source": [
    "3. string , boolean , Numeric, sequence"
   ]
  },
  {
   "cell_type": "markdown",
   "id": "04d261cd",
   "metadata": {},
   "source": [
    "4. Expressions are mathematical symbols which can use for mutiply addition sub and devide \n",
    "\n",
    "5. Difference between Expressions and Statements in Python:\n",
    "Evaluation of an expression always Produces or returns a result value. Execution of a statement may or may not produces or displays a result value, it only does whatever the statement says.\n"
   ]
  },
  {
   "cell_type": "markdown",
   "id": "e1f933b8",
   "metadata": {},
   "source": [
    "6.\n",
    "econ = 22\n",
    "becon +1\n",
    "23"
   ]
  },
  {
   "cell_type": "code",
   "execution_count": 26,
   "id": "217ad665",
   "metadata": {},
   "outputs": [
    {
     "name": "stdout",
     "output_type": "stream",
     "text": [
      "spamspam\n",
      "spamspamspam\n"
     ]
    }
   ],
   "source": [
    "7. \n",
    "a = 'spam' + 'spam'\n",
    "b ='spam' * 3\n",
    "print(a)\n",
    "print(b)"
   ]
  },
  {
   "cell_type": "markdown",
   "id": "438e82f5",
   "metadata": {},
   "source": [
    "8.\n",
    "because we cant use numbers as a variable we only use alphabets or like _100 ,_game00"
   ]
  },
  {
   "cell_type": "code",
   "execution_count": 27,
   "id": "5bd7f0d3",
   "metadata": {},
   "outputs": [
    {
     "data": {
      "text/plain": [
       "''"
      ]
     },
     "execution_count": 27,
     "metadata": {},
     "output_type": "execute_result"
    }
   ],
   "source": [
    "9.\n",
    "int()\n",
    "float()\n",
    "str()"
   ]
  },
  {
   "cell_type": "code",
   "execution_count": 31,
   "id": "32d77f8b",
   "metadata": {},
   "outputs": [
    {
     "data": {
      "text/plain": [
       "' i have eaten + 99 + burritos'"
      ]
     },
     "execution_count": 31,
     "metadata": {},
     "output_type": "execute_result"
    }
   ],
   "source": [
    "10.\n",
    "# a  = 'i have eaten'+ 99 +'burritos'\n",
    "# can only concatenate str (not \"int\") to str\n",
    "a = ' i have eaten + 99 + burritos'\n",
    "a"
   ]
  },
  {
   "cell_type": "code",
   "execution_count": null,
   "id": "4fbd0530",
   "metadata": {},
   "outputs": [],
   "source": []
  }
 ],
 "metadata": {
  "kernelspec": {
   "display_name": "Python 3",
   "language": "python",
   "name": "python3"
  },
  "language_info": {
   "codemirror_mode": {
    "name": "ipython",
    "version": 3
   },
   "file_extension": ".py",
   "mimetype": "text/x-python",
   "name": "python",
   "nbconvert_exporter": "python",
   "pygments_lexer": "ipython3",
   "version": "3.8.8"
  }
 },
 "nbformat": 4,
 "nbformat_minor": 5
}
