{
 "cells": [
  {
   "cell_type": "code",
   "execution_count": 31,
   "id": "7bcfcf1e",
   "metadata": {},
   "outputs": [],
   "source": [
    "class A():\n",
    "    def dog(self):\n",
    "        print(\"bark\")\n",
    "   "
   ]
  },
  {
   "cell_type": "code",
   "execution_count": 32,
   "id": "dd6d51fa",
   "metadata": {},
   "outputs": [],
   "source": [
    "class B(A):\n",
    "    def parent(self):\n",
    "        print(\"dog is barking\")"
   ]
  },
  {
   "cell_type": "code",
   "execution_count": 33,
   "id": "09d8dff1",
   "metadata": {},
   "outputs": [],
   "source": [
    "class C(A):\n",
    "    def child(self):\n",
    "        print(\"child dog is barking\")"
   ]
  },
  {
   "cell_type": "code",
   "execution_count": 43,
   "id": "6838f1fb",
   "metadata": {},
   "outputs": [],
   "source": [
    "class D(B,C):\n",
    "    def method1(self):\n",
    "        print(\"all dogs are barking\")\n",
    "        A.dog(self)\n",
    "        B.parent(self)\n",
    "        C.child(self)\n",
    "    "
   ]
  },
  {
   "cell_type": "code",
   "execution_count": 44,
   "id": "3f55fad6",
   "metadata": {},
   "outputs": [],
   "source": [
    "d = D()"
   ]
  },
  {
   "cell_type": "code",
   "execution_count": 45,
   "id": "07989001",
   "metadata": {},
   "outputs": [
    {
     "name": "stdout",
     "output_type": "stream",
     "text": [
      "all dogs are barking\n",
      "bark\n",
      "dog is barking\n",
      "child dog is barking\n"
     ]
    }
   ],
   "source": [
    "d.method1()"
   ]
  },
  {
   "cell_type": "code",
   "execution_count": null,
   "id": "69c5da44",
   "metadata": {},
   "outputs": [],
   "source": []
  }
 ],
 "metadata": {
  "kernelspec": {
   "display_name": "Python 3",
   "language": "python",
   "name": "python3"
  },
  "language_info": {
   "codemirror_mode": {
    "name": "ipython",
    "version": 3
   },
   "file_extension": ".py",
   "mimetype": "text/x-python",
   "name": "python",
   "nbconvert_exporter": "python",
   "pygments_lexer": "ipython3",
   "version": "3.8.8"
  }
 },
 "nbformat": 4,
 "nbformat_minor": 5
}
